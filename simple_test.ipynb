{
 "cells": [
  {
   "cell_type": "code",
   "execution_count": 24,
   "metadata": {},
   "outputs": [
    {
     "data": {
      "text/plain": [
       "<torch._C.Generator at 0x113459450>"
      ]
     },
     "execution_count": 24,
     "metadata": {},
     "output_type": "execute_result"
    }
   ],
   "source": [
    "import torch\n",
    "import torch.nn as nn\n",
    "from torch.autograd import Variable\n",
    "\n",
    "torch.manual_seed(7)"
   ]
  },
  {
   "cell_type": "code",
   "execution_count": 25,
   "metadata": {},
   "outputs": [],
   "source": [
    "class ForwardNet(nn.Module):\n",
    "    def __init__(self):\n",
    "        super(ForwardNet, self).__init__()\n",
    "        self.fc1 = nn.Linear(10, 10)\n",
    "        self.fc2 = nn.Linear(10, 10)\n",
    "        self.fc3 = nn.Linear(10, 10)\n",
    "        self.fc4 = nn.Linear(10, 10)\n",
    "        self.layers = nn.ModuleList([self.fc1, self.fc2, self.fc3, self.fc4])\n",
    "\n",
    "    def forward(self, x):\n",
    "        self.output = []\n",
    "        self.input = []\n",
    "        for layer in self.layers:\n",
    "            # detach from previous history\n",
    "            x = Variable(x.data, requires_grad=True)\n",
    "            self.input.append(x)\n",
    "            # compute output\n",
    "            x = layer(x)\n",
    "            # add to list of outputs\n",
    "            self.output.append(x)\n",
    "        return x\n",
    "\n",
    "    def backward(self, g):\n",
    "        for i, output in reversed(list(enumerate(self.output))):\n",
    "            if i == (len(self.output) - 1):\n",
    "                # for last node, use g\n",
    "                output.backward(g)\n",
    "            else:\n",
    "                output.backward(self.input[i+1].grad.data)\n",
    "            print(i, self.input[i].grad.data.sum())"
   ]
  },
  {
   "cell_type": "code",
   "execution_count": 26,
   "metadata": {},
   "outputs": [
    {
     "data": {
      "text/plain": [
       "ForwardNet(\n",
       "  (fc1): Linear(in_features=10, out_features=10, bias=True)\n",
       "  (fc2): Linear(in_features=10, out_features=10, bias=True)\n",
       "  (fc3): Linear(in_features=10, out_features=10, bias=True)\n",
       "  (fc4): Linear(in_features=10, out_features=10, bias=True)\n",
       "  (layers): ModuleList(\n",
       "    (0): Linear(in_features=10, out_features=10, bias=True)\n",
       "    (1): Linear(in_features=10, out_features=10, bias=True)\n",
       "    (2): Linear(in_features=10, out_features=10, bias=True)\n",
       "    (3): Linear(in_features=10, out_features=10, bias=True)\n",
       "  )\n",
       ")"
      ]
     },
     "execution_count": 26,
     "metadata": {},
     "output_type": "execute_result"
    }
   ],
   "source": [
    "model.eval()"
   ]
  },
  {
   "cell_type": "code",
   "execution_count": 27,
   "metadata": {},
   "outputs": [
    {
     "name": "stdout",
     "output_type": "stream",
     "text": [
      "3 tensor(0.6882)\n",
      "2 tensor(-1.4815)\n",
      "1 tensor(0.3181)\n",
      "0 tensor(-0.3078)\n"
     ]
    }
   ],
   "source": [
    "model = ForwardNet()\n",
    "inp = Variable(torch.randn(4, 10))\n",
    "output = model(inp)\n",
    "gradients = torch.randn(*output.size())\n",
    "model.backward(gradients)"
   ]
  },
  {
   "cell_type": "code",
   "execution_count": 28,
   "metadata": {},
   "outputs": [],
   "source": [
    "class FeedbackNet(nn.Module):\n",
    "    def __init__(self, batch_size):\n",
    "        super(FeedbackNet, self).__init__()\n",
    "        self.layers = nn.ModuleList([\n",
    "            nn.Linear(10, 10),\n",
    "            nn.Linear(10, 10),\n",
    "            nn.Linear(10, 10),\n",
    "            nn.Linear(10, 10),\n",
    "        ])\n",
    "        self.z = []\n",
    "        for i, layer in list(enumerate(self.layers)):\n",
    "            z = torch.ones(batch_size, 10)\n",
    "            self.z.append(z)\n",
    "\n",
    "    def forward(self, x):\n",
    "        self.output = []\n",
    "        self.input = []\n",
    "        for i, layer in list(enumerate(self.layers)):\n",
    "            # detach from previous history\n",
    "            x = Variable(x.data, requires_grad=True)\n",
    "            self.input.append(x)\n",
    "            # compute output\n",
    "            x = layer(x)\n",
    "            # multiply by the hidden gate\n",
    "            x = x * self.z[i]\n",
    "            # add to list of outputs\n",
    "            self.output.append(x)\n",
    "        return x\n",
    "\n",
    "    def backward(self, g):\n",
    "        for i, output in reversed(list(enumerate(self.output))):\n",
    "            if i == (len(self.output) - 1):\n",
    "                # for last node, use g\n",
    "                output.backward(g)\n",
    "            else:\n",
    "                output.backward(self.input[i+1].grad.data)\n",
    "            alpha = self.input[i].grad\n",
    "            self.z[i] = (alpha > 0).float()\n",
    "            self.input[i].grad = self.z[i] * alpha\n",
    "            print(i, self.input[i].grad.data.sum())"
   ]
  },
  {
   "cell_type": "code",
   "execution_count": 29,
   "metadata": {},
   "outputs": [
    {
     "data": {
      "text/plain": [
       "ForwardNet(\n",
       "  (fc1): Linear(in_features=10, out_features=10, bias=True)\n",
       "  (fc2): Linear(in_features=10, out_features=10, bias=True)\n",
       "  (fc3): Linear(in_features=10, out_features=10, bias=True)\n",
       "  (fc4): Linear(in_features=10, out_features=10, bias=True)\n",
       "  (layers): ModuleList(\n",
       "    (0): Linear(in_features=10, out_features=10, bias=True)\n",
       "    (1): Linear(in_features=10, out_features=10, bias=True)\n",
       "    (2): Linear(in_features=10, out_features=10, bias=True)\n",
       "    (3): Linear(in_features=10, out_features=10, bias=True)\n",
       "  )\n",
       ")"
      ]
     },
     "execution_count": 29,
     "metadata": {},
     "output_type": "execute_result"
    }
   ],
   "source": [
    "model.eval()"
   ]
  },
  {
   "cell_type": "code",
   "execution_count": 31,
   "metadata": {},
   "outputs": [
    {
     "name": "stdout",
     "output_type": "stream",
     "text": [
      "3 tensor(7.6773)\n",
      "2 tensor(2.1005)\n",
      "1 tensor(0.9308)\n",
      "0 tensor(0.3725)\n",
      "3 tensor(5.5707)\n",
      "2 tensor(0.7880)\n",
      "1 tensor(0.1020)\n",
      "0 tensor(1.00000e-02 *\n",
      "       4.6935)\n",
      "3 tensor(6.3577)\n",
      "2 tensor(1.3364)\n",
      "1 tensor(0.2458)\n",
      "0 tensor(1.00000e-02 *\n",
      "       7.1084)\n",
      "3 tensor(6.5020)\n",
      "2 tensor(1.3364)\n",
      "1 tensor(0.3185)\n",
      "0 tensor(1.00000e-02 *\n",
      "       6.4023)\n",
      "3 tensor(6.5934)\n",
      "2 tensor(1.0495)\n",
      "1 tensor(0.2015)\n",
      "0 tensor(1.00000e-02 *\n",
      "       6.6785)\n"
     ]
    }
   ],
   "source": [
    "model = FeedbackNet(4)\n",
    "inp = Variable(torch.randn(4, 10))\n",
    "gradients = torch.randn(*output.size())\n",
    "for iter in range(5):\n",
    "    output = model(inp)\n",
    "    model.backward(gradients)"
   ]
  },
  {
   "cell_type": "code",
   "execution_count": null,
   "metadata": {},
   "outputs": [],
   "source": []
  }
 ],
 "metadata": {
  "kernelspec": {
   "display_name": "Python 3",
   "language": "python",
   "name": "python3"
  },
  "language_info": {
   "codemirror_mode": {
    "name": "ipython",
    "version": 3
   },
   "file_extension": ".py",
   "mimetype": "text/x-python",
   "name": "python",
   "nbconvert_exporter": "python",
   "pygments_lexer": "ipython3",
   "version": "3.6.4"
  }
 },
 "nbformat": 4,
 "nbformat_minor": 2
}
