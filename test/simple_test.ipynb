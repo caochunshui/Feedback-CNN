{
 "cells": [
  {
   "cell_type": "code",
   "execution_count": 11,
   "metadata": {},
   "outputs": [
    {
     "data": {
      "text/plain": [
       "<torch._C.Generator at 0x7efffbb45310>"
      ]
     },
     "execution_count": 11,
     "metadata": {},
     "output_type": "execute_result"
    }
   ],
   "source": [
    "import torch\n",
    "import torch.nn as nn\n",
    "from torch.autograd import Variable\n",
    "\n",
    "torch.manual_seed(7)"
   ]
  },
  {
   "cell_type": "code",
   "execution_count": 12,
   "metadata": {
    "collapsed": true
   },
   "outputs": [],
   "source": [
    "class ForwardNet(nn.Module):\n",
    "    def __init__(self):\n",
    "        super(ForwardNet, self).__init__()\n",
    "        self.fc1 = nn.Linear(3, 4)\n",
    "        self.fc2 = nn.Linear(4, 5)\n",
    "        self.fc3 = nn.Linear(5, 6)\n",
    "        self.fc4 = nn.Linear(6, 7)\n",
    "        self.layers = nn.ModuleList([self.fc1, self.fc2, self.fc3, self.fc4])\n",
    "\n",
    "    def forward(self, x):\n",
    "        self.output = []\n",
    "        self.input = []\n",
    "        for layer in self.layers:\n",
    "            # detach from previous history\n",
    "            x = Variable(x.data, requires_grad=True)\n",
    "            self.input.append(x)\n",
    "            # compute output\n",
    "            x = layer(x)\n",
    "            # add to list of outputs\n",
    "            self.output.append(x)\n",
    "        return x\n",
    "\n",
    "    def backward(self, g):\n",
    "        for i, output in reversed(list(enumerate(self.output))):\n",
    "            if i == (len(self.output) - 1):\n",
    "                # for last node, use g\n",
    "                output.backward(g)\n",
    "            else:\n",
    "                output.backward(self.input[i+1].grad.data)\n",
    "            print(i, self.input[i].grad.data.sum())"
   ]
  },
  {
   "cell_type": "code",
   "execution_count": 13,
   "metadata": {},
   "outputs": [
    {
     "name": "stdout",
     "output_type": "stream",
     "text": [
      "3 tensor(-2.2411)\n",
      "2 tensor(-0.2933)\n",
      "1 tensor(-0.3095)\n",
      "0 tensor(-0.1896)\n"
     ]
    }
   ],
   "source": [
    "model = ForwardNet()\n",
    "model.eval()\n",
    "inp = Variable(torch.randn(4, 3))\n",
    "output = model(inp)\n",
    "gradients = torch.randn(*output.size())\n",
    "model.backward(gradients)"
   ]
  },
  {
   "cell_type": "code",
   "execution_count": 14,
   "metadata": {
    "collapsed": true
   },
   "outputs": [],
   "source": [
    "class FeedbackNet(nn.Module):\n",
    "    def __init__(self, batch_size):\n",
    "        super(FeedbackNet, self).__init__()\n",
    "        self.layers = nn.ModuleList([\n",
    "            nn.Linear(3, 4),\n",
    "            nn.Linear(4, 5),\n",
    "            nn.Linear(5, 6),\n",
    "            nn.Linear(6, 7),\n",
    "        ])\n",
    "        self.z = []\n",
    "        for i, layer in list(enumerate(self.layers)):\n",
    "            z = torch.ones(batch_size, layer.in_features)\n",
    "            self.z.append(z)\n",
    "\n",
    "    def forward(self, x):\n",
    "        self.output = []\n",
    "        self.input = []\n",
    "        for i, layer in list(enumerate(self.layers)):\n",
    "            # detach from previous history\n",
    "            x = Variable(x.data, requires_grad=True)\n",
    "            self.input.append(x)\n",
    "            # multiply by the hidden gate\n",
    "            x = x * self.z[i]\n",
    "            # compute output\n",
    "            x = layer(x)\n",
    "            # add to list of outputs\n",
    "            self.output.append(x)\n",
    "        return x\n",
    "\n",
    "    def backward(self, g):\n",
    "        for i, output in reversed(list(enumerate(self.output))):\n",
    "            if i == (len(self.output) - 1):\n",
    "                # for last node, use g\n",
    "                output.backward(g)\n",
    "            else:\n",
    "                output.backward(self.input[i+1].grad.data)\n",
    "            alpha = self.input[i].grad\n",
    "            self.z[i] = (alpha > 0).float()\n",
    "            self.input[i].grad = self.z[i] * alpha\n",
    "            print(i, self.input[i].grad.data.sum())"
   ]
  },
  {
   "cell_type": "code",
   "execution_count": 15,
   "metadata": {},
   "outputs": [
    {
     "name": "stdout",
     "output_type": "stream",
     "text": [
      "3 tensor(6.3751)\n",
      "2 tensor(1.4822)\n",
      "1 tensor(0.3731)\n",
      "0 tensor(1.00000e-02 *\n",
      "       3.2556)\n",
      "3 tensor(6.3751)\n",
      "2 tensor(1.4822)\n",
      "1 tensor(0.3731)\n",
      "0 tensor(1.00000e-02 *\n",
      "       3.2556)\n",
      "3 tensor(6.3751)\n",
      "2 tensor(1.4822)\n",
      "1 tensor(0.3731)\n",
      "0 tensor(1.00000e-02 *\n",
      "       3.2556)\n",
      "3 tensor(6.3751)\n",
      "2 tensor(1.4822)\n",
      "1 tensor(0.3731)\n",
      "0 tensor(1.00000e-02 *\n",
      "       3.2556)\n",
      "3 tensor(6.3751)\n",
      "2 tensor(1.4822)\n",
      "1 tensor(0.3731)\n",
      "0 tensor(1.00000e-02 *\n",
      "       3.2556)\n"
     ]
    }
   ],
   "source": [
    "model = FeedbackNet(4)\n",
    "model.eval()\n",
    "inp = Variable(torch.randn(4, 3))\n",
    "gradients = torch.randn(*output.size())\n",
    "for iter in range(5):\n",
    "    output = model(inp)\n",
    "    model.backward(gradients)"
   ]
  }
 ],
 "metadata": {
  "kernelspec": {
   "display_name": "Python 3",
   "language": "python",
   "name": "python3"
  },
  "language_info": {
   "codemirror_mode": {
    "name": "ipython",
    "version": 3
   },
   "file_extension": ".py",
   "mimetype": "text/x-python",
   "name": "python",
   "nbconvert_exporter": "python",
   "pygments_lexer": "ipython3",
   "version": "3.5.2"
  }
 },
 "nbformat": 4,
 "nbformat_minor": 2
}
